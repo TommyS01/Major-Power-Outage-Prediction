{
 "cells": [
  {
   "cell_type": "markdown",
   "metadata": {},
   "source": [
    "# Major US Power Outage Duration Prediction\n",
    "\n",
    "**Tommy Shen**"
   ]
  },
  {
   "cell_type": "markdown",
   "metadata": {},
   "source": [
    "## Summary of Findings\n",
    "\n",
    "\n",
    "### Introduction\n",
    "The model in this notebook attempts to predict the duration of a major power outage in the US via linear regression. This is a very practical response variable for electricity companies to predict, since having an estimate of how long it will take to restore a power outage allows for more transparency with customers. Furthermore, patterns shown by the model might reveal critical flaws in infrastructure that hinder power restoration efforts.\n",
    "\n",
    "Model performance and fairness is evaluated using mean absolute error, which is an appropriate metric since an error value with the same units as our response variable (seconds) is easy to interpret and has a distribution that can be visualized meaningfully.\n",
    "\n",
    "Features un-available at prediction time include demand loss and restoration time. The number of customers affected could also be considered among the unavailable features but it's unclear whether or not this number is pre-determined using by the number of registered customers in an affected grid or if this data is obtained after the outage.\n",
    "\n",
    "### Baseline Model\n",
    "The baseline model uses the anomaly level and cause of an outage as predictors in linear regression. Since anomaly level is quantitative and cause is nominal the only transformation required is one hot encoding. On average, predictions made by this model were off by 40-45 minutes which is somewhat good, but visualization of the residuals showed that some predictions were far from the actual durations. Additionally, the coefficient of determination was very low suggesting that a linear model is likley not appropriate.\n",
    "\n",
    "### Final Model\n",
    "The final model keeps anomaly level and one hot encoded causes as predictors and introduces climate region and time of day as additional predictors. The old linear regression estimator is replaced with a regression tree. The time of day is binarized to encode whether or not an outage began outside of typical working hours (8AM-6PM) and climate region is one-hot encoded.\n",
    "\n",
    "### Fairness Analysis\n",
    "Two fairness assessment tests are conducted.\n",
    "\n",
    "First, I hypothesized that the most under-represented region in the training set would have a larger mean absolute error than the most over-represented region. A permutation test of the difference in mean absolute error was conduted with the following hypotheses:\n",
    "* $H_0$: The mean absolute error for outage duration predictions is the same for the most overrepresented and most underrepresented regions\n",
    "* $H_1$: The mean absolute error for outage duration predictions is greater for the most underrepresented region than for the most overrepresented region\n",
    "With a significance level of $\\alpha=0.05$, we failed to reject the null hypothesis.\n",
    "\n",
    "Next, an ANOVA of the mean absolute error was conducted to compare errors among all regions The hypotheses were:\n",
    "* $H_0$: The mean absolute errors of every region is equal\n",
    "* $H_1$: At least one region has a mean absolute error that is different than the others\n",
    "With a significance level of $\\alpha=0.05$, we failed to reject the null hypothesis.\n",
    "\n",
    "While these tests don't show any signs of unfairness, we cannot be for certain that the model doesn't perform better for some groups than others."
   ]
  },
  {
   "cell_type": "markdown",
   "metadata": {},
   "source": [
    "## Code"
   ]
  },
  {
   "cell_type": "code",
   "execution_count": 1,
   "metadata": {},
   "outputs": [],
   "source": [
    "import matplotlib.pyplot as plt\n",
    "import numpy as np\n",
    "import os\n",
    "import pandas as pd\n",
    "import seaborn as sns\n",
    "%config InlineBackend.figure_format = 'retina'  # Higher resolution figures"
   ]
  },
  {
   "cell_type": "markdown",
   "metadata": {},
   "source": [
    "The cell below reads the outage excel data and reformats it to a tidy rectangular form as done in project 3."
   ]
  },
  {
   "cell_type": "code",
   "execution_count": 2,
   "metadata": {
    "scrolled": true
   },
   "outputs": [
    {
     "name": "stderr",
     "output_type": "stream",
     "text": [
      "C:\\Users\\thoma\\anaconda3\\lib\\site-packages\\pandas\\core\\indexes\\base.py:6982: FutureWarning: In a future version, the Index constructor will not infer numeric dtypes when passed object-dtype sequences (matching Series behavior)\n",
      "  return Index(sequences[0], name=names)\n"
     ]
    },
    {
     "data": {
      "text/html": [
       "<div>\n",
       "<style scoped>\n",
       "    .dataframe tbody tr th:only-of-type {\n",
       "        vertical-align: middle;\n",
       "    }\n",
       "\n",
       "    .dataframe tbody tr th {\n",
       "        vertical-align: top;\n",
       "    }\n",
       "\n",
       "    .dataframe thead th {\n",
       "        text-align: right;\n",
       "    }\n",
       "</style>\n",
       "<table border=\"1\" class=\"dataframe\">\n",
       "  <thead>\n",
       "    <tr style=\"text-align: right;\">\n",
       "      <th></th>\n",
       "      <th>YEAR</th>\n",
       "      <th>MONTH</th>\n",
       "      <th>U.S._STATE</th>\n",
       "      <th>POSTAL.CODE</th>\n",
       "      <th>NERC.REGION</th>\n",
       "      <th>CLIMATE.REGION</th>\n",
       "      <th>ANOMALY.LEVEL</th>\n",
       "      <th>CLIMATE.CATEGORY</th>\n",
       "      <th>OUTAGE.START.DATE</th>\n",
       "    </tr>\n",
       "    <tr>\n",
       "      <th>OBS</th>\n",
       "      <th></th>\n",
       "      <th></th>\n",
       "      <th></th>\n",
       "      <th></th>\n",
       "      <th></th>\n",
       "      <th></th>\n",
       "      <th></th>\n",
       "      <th></th>\n",
       "      <th></th>\n",
       "    </tr>\n",
       "  </thead>\n",
       "  <tbody>\n",
       "    <tr>\n",
       "      <th>1</th>\n",
       "      <td>2011</td>\n",
       "      <td>7</td>\n",
       "      <td>Minnesota</td>\n",
       "      <td>MN</td>\n",
       "      <td>MRO</td>\n",
       "      <td>East North Central</td>\n",
       "      <td>-0.3</td>\n",
       "      <td>normal</td>\n",
       "      <td>2011-07-01 00:00:00</td>\n",
       "    </tr>\n",
       "    <tr>\n",
       "      <th>2</th>\n",
       "      <td>2014</td>\n",
       "      <td>5</td>\n",
       "      <td>Minnesota</td>\n",
       "      <td>MN</td>\n",
       "      <td>MRO</td>\n",
       "      <td>East North Central</td>\n",
       "      <td>-0.1</td>\n",
       "      <td>normal</td>\n",
       "      <td>2014-05-11 00:00:00</td>\n",
       "    </tr>\n",
       "    <tr>\n",
       "      <th>3</th>\n",
       "      <td>2010</td>\n",
       "      <td>10</td>\n",
       "      <td>Minnesota</td>\n",
       "      <td>MN</td>\n",
       "      <td>MRO</td>\n",
       "      <td>East North Central</td>\n",
       "      <td>-1.5</td>\n",
       "      <td>cold</td>\n",
       "      <td>2010-10-26 00:00:00</td>\n",
       "    </tr>\n",
       "    <tr>\n",
       "      <th>4</th>\n",
       "      <td>2012</td>\n",
       "      <td>6</td>\n",
       "      <td>Minnesota</td>\n",
       "      <td>MN</td>\n",
       "      <td>MRO</td>\n",
       "      <td>East North Central</td>\n",
       "      <td>-0.1</td>\n",
       "      <td>normal</td>\n",
       "      <td>2012-06-19 00:00:00</td>\n",
       "    </tr>\n",
       "    <tr>\n",
       "      <th>5</th>\n",
       "      <td>2015</td>\n",
       "      <td>7</td>\n",
       "      <td>Minnesota</td>\n",
       "      <td>MN</td>\n",
       "      <td>MRO</td>\n",
       "      <td>East North Central</td>\n",
       "      <td>1.2</td>\n",
       "      <td>warm</td>\n",
       "      <td>2015-07-18 00:00:00</td>\n",
       "    </tr>\n",
       "    <tr>\n",
       "      <th>6</th>\n",
       "      <td>2010</td>\n",
       "      <td>11</td>\n",
       "      <td>Minnesota</td>\n",
       "      <td>MN</td>\n",
       "      <td>MRO</td>\n",
       "      <td>East North Central</td>\n",
       "      <td>-1.4</td>\n",
       "      <td>cold</td>\n",
       "      <td>2010-11-13 00:00:00</td>\n",
       "    </tr>\n",
       "  </tbody>\n",
       "</table>\n",
       "</div>"
      ],
      "text/plain": [
       "     YEAR MONTH U.S._STATE POSTAL.CODE NERC.REGION      CLIMATE.REGION  \\\n",
       "OBS                                                                      \n",
       "1    2011     7  Minnesota          MN         MRO  East North Central   \n",
       "2    2014     5  Minnesota          MN         MRO  East North Central   \n",
       "3    2010    10  Minnesota          MN         MRO  East North Central   \n",
       "4    2012     6  Minnesota          MN         MRO  East North Central   \n",
       "5    2015     7  Minnesota          MN         MRO  East North Central   \n",
       "6    2010    11  Minnesota          MN         MRO  East North Central   \n",
       "\n",
       "    ANOMALY.LEVEL CLIMATE.CATEGORY    OUTAGE.START.DATE  \n",
       "OBS                                                      \n",
       "1            -0.3           normal  2011-07-01 00:00:00  \n",
       "2            -0.1           normal  2014-05-11 00:00:00  \n",
       "3            -1.5             cold  2010-10-26 00:00:00  \n",
       "4            -0.1           normal  2012-06-19 00:00:00  \n",
       "5             1.2             warm  2015-07-18 00:00:00  \n",
       "6            -1.4             cold  2010-11-13 00:00:00  "
      ]
     },
     "execution_count": 2,
     "metadata": {},
     "output_type": "execute_result"
    }
   ],
   "source": [
    "#Data preview from project 3\n",
    "outages = pd.read_excel('outage.xlsx')\n",
    "#Set proper column names, remove empty header cells, drop empty 'variables' column\n",
    "outages.columns = outages.loc[4].rename(None)\n",
    "outages = outages[6:]\n",
    "outages = outages.drop(['variables'], axis=1)\n",
    "#Set index to OBS\n",
    "outages = outages.set_index('OBS')\n",
    "outages.iloc[0:6,0:9]"
   ]
  },
  {
   "cell_type": "markdown",
   "metadata": {},
   "source": [
    "Many variables included in the dataset have little relation to power-outage duration, such as land-use, free-form text elaboration on outage cause, and event nomenclature.\n",
    "\n",
    "As per the description of variables, electricity pricing and servicing is all aggregated by the state, thus having multicollinearity with the state variable.\n",
    "\n",
    "Some of the columns in the dataset are either co-dependent with the response variable or are unavailable at prediction time, such as restoration time and demand loss. These features are dropped along with the other irrelevant and uninformative columns."
   ]
  },
  {
   "cell_type": "code",
   "execution_count": 3,
   "metadata": {
    "scrolled": false
   },
   "outputs": [
    {
     "data": {
      "text/plain": [
       "Index(['YEAR', 'MONTH', 'U.S._STATE', 'POSTAL.CODE', 'NERC.REGION',\n",
       "       'CLIMATE.REGION', 'ANOMALY.LEVEL', 'CLIMATE.CATEGORY',\n",
       "       'OUTAGE.START.DATE', 'OUTAGE.START.TIME', 'OUTAGE.RESTORATION.DATE',\n",
       "       'OUTAGE.RESTORATION.TIME', 'CAUSE.CATEGORY', 'CAUSE.CATEGORY.DETAIL',\n",
       "       'HURRICANE.NAMES', 'OUTAGE.DURATION', 'DEMAND.LOSS.MW',\n",
       "       'CUSTOMERS.AFFECTED', 'RES.PRICE', 'COM.PRICE', 'IND.PRICE',\n",
       "       'TOTAL.PRICE', 'RES.SALES', 'COM.SALES', 'IND.SALES', 'TOTAL.SALES',\n",
       "       'RES.PERCEN', 'COM.PERCEN', 'IND.PERCEN', 'RES.CUSTOMERS',\n",
       "       'COM.CUSTOMERS', 'IND.CUSTOMERS', 'TOTAL.CUSTOMERS', 'RES.CUST.PCT',\n",
       "       'COM.CUST.PCT', 'IND.CUST.PCT', 'PC.REALGSP.STATE', 'PC.REALGSP.USA',\n",
       "       'PC.REALGSP.REL', 'PC.REALGSP.CHANGE', 'UTIL.REALGSP', 'TOTAL.REALGSP',\n",
       "       'UTIL.CONTRI', 'PI.UTIL.OFUSA', 'POPULATION', 'POPPCT_URBAN',\n",
       "       'POPPCT_UC', 'POPDEN_URBAN', 'POPDEN_UC', 'POPDEN_RURAL',\n",
       "       'AREAPCT_URBAN', 'AREAPCT_UC', 'PCT_LAND', 'PCT_WATER_TOT',\n",
       "       'PCT_WATER_INLAND'],\n",
       "      dtype='object')"
      ]
     },
     "execution_count": 3,
     "metadata": {},
     "output_type": "execute_result"
    }
   ],
   "source": [
    "outages.columns"
   ]
  },
  {
   "cell_type": "code",
   "execution_count": 4,
   "metadata": {
    "scrolled": true
   },
   "outputs": [
    {
     "data": {
      "text/plain": [
       "Index(['YEAR', 'MONTH', 'STATE', 'NERC.REGION', 'CLIMATE.REGION',\n",
       "       'ANOMALY.LEVEL', 'CLIMATE.CATEGORY', 'OUTAGE.START.DATE',\n",
       "       'OUTAGE.START.TIME', 'CAUSE.CATEGORY', 'OUTAGE.DURATION',\n",
       "       'CUSTOMERS.AFFECTED'],\n",
       "      dtype='object')"
      ]
     },
     "execution_count": 4,
     "metadata": {},
     "output_type": "execute_result"
    }
   ],
   "source": [
    "#Drop uninformative commercial and land-use columns\n",
    "outages = outages.drop(outages.columns[18:], axis=1)\n",
    "#Drop redundant time, name-related, and explanatory columns\n",
    "outages = outages.drop(['U.S._STATE', 'HURRICANE.NAMES', 'CAUSE.CATEGORY.DETAIL'], axis=1)\n",
    "outages = outages.rename(columns={'POSTAL.CODE': 'STATE'})\n",
    "#Drop features unavailable at prediction time\n",
    "outages = outages.drop(['OUTAGE.RESTORATION.DATE', 'OUTAGE.RESTORATION.TIME', 'DEMAND.LOSS.MW'], axis=1)\n",
    "outages.columns"
   ]
  },
  {
   "cell_type": "markdown",
   "metadata": {},
   "source": [
    "The remaining variables all have a plausible connection to power outage duration and could potentially be used as predictors. Missing values in the response column, OUTAGE.DURATION are dropped as they are not helpful to the model."
   ]
  },
  {
   "cell_type": "code",
   "execution_count": 5,
   "metadata": {
    "scrolled": true
   },
   "outputs": [],
   "source": [
    "outages = outages.dropna(subset=['OUTAGE.DURATION'])"
   ]
  },
  {
   "cell_type": "markdown",
   "metadata": {},
   "source": [
    "### Baseline Model"
   ]
  },
  {
   "cell_type": "code",
   "execution_count": 6,
   "metadata": {},
   "outputs": [],
   "source": [
    "from sklearn.model_selection import train_test_split\n",
    "from sklearn.pipeline import Pipeline\n",
    "from sklearn.compose import ColumnTransformer\n",
    "from sklearn.preprocessing import Binarizer\n",
    "from sklearn.preprocessing import OneHotEncoder\n",
    "from sklearn.linear_model import LinearRegression"
   ]
  },
  {
   "cell_type": "markdown",
   "metadata": {},
   "source": [
    "This first linear regression model considers the region's anomaly level, which measures the general climate temperature trend at the time of occurrence and the cause of the outage.\n",
    "\n",
    "It seems logical that the duration of a power outage depends on the current pan-American weather trends and the type of event causing the outage; information which is captured by the selected columns."
   ]
  },
  {
   "cell_type": "code",
   "execution_count": 7,
   "metadata": {},
   "outputs": [
    {
     "data": {
      "text/html": [
       "<div>\n",
       "<style scoped>\n",
       "    .dataframe tbody tr th:only-of-type {\n",
       "        vertical-align: middle;\n",
       "    }\n",
       "\n",
       "    .dataframe tbody tr th {\n",
       "        vertical-align: top;\n",
       "    }\n",
       "\n",
       "    .dataframe thead th {\n",
       "        text-align: right;\n",
       "    }\n",
       "</style>\n",
       "<table border=\"1\" class=\"dataframe\">\n",
       "  <thead>\n",
       "    <tr style=\"text-align: right;\">\n",
       "      <th></th>\n",
       "      <th>ANOMALY.LEVEL</th>\n",
       "      <th>CAUSE</th>\n",
       "      <th>DURATION</th>\n",
       "    </tr>\n",
       "    <tr>\n",
       "      <th>OBS</th>\n",
       "      <th></th>\n",
       "      <th></th>\n",
       "      <th></th>\n",
       "    </tr>\n",
       "  </thead>\n",
       "  <tbody>\n",
       "    <tr>\n",
       "      <th>1</th>\n",
       "      <td>-0.3</td>\n",
       "      <td>severe weather</td>\n",
       "      <td>3060.0</td>\n",
       "    </tr>\n",
       "    <tr>\n",
       "      <th>2</th>\n",
       "      <td>-0.1</td>\n",
       "      <td>intentional attack</td>\n",
       "      <td>1.0</td>\n",
       "    </tr>\n",
       "    <tr>\n",
       "      <th>3</th>\n",
       "      <td>-1.5</td>\n",
       "      <td>severe weather</td>\n",
       "      <td>3000.0</td>\n",
       "    </tr>\n",
       "    <tr>\n",
       "      <th>4</th>\n",
       "      <td>-0.1</td>\n",
       "      <td>severe weather</td>\n",
       "      <td>2550.0</td>\n",
       "    </tr>\n",
       "    <tr>\n",
       "      <th>5</th>\n",
       "      <td>1.2</td>\n",
       "      <td>severe weather</td>\n",
       "      <td>1740.0</td>\n",
       "    </tr>\n",
       "  </tbody>\n",
       "</table>\n",
       "</div>"
      ],
      "text/plain": [
       "     ANOMALY.LEVEL               CAUSE  DURATION\n",
       "OBS                                             \n",
       "1             -0.3      severe weather    3060.0\n",
       "2             -0.1  intentional attack       1.0\n",
       "3             -1.5      severe weather    3000.0\n",
       "4             -0.1      severe weather    2550.0\n",
       "5              1.2      severe weather    1740.0"
      ]
     },
     "execution_count": 7,
     "metadata": {},
     "output_type": "execute_result"
    }
   ],
   "source": [
    "df = outages[['ANOMALY.LEVEL', 'CAUSE.CATEGORY', 'OUTAGE.DURATION']]\n",
    "df = df.rename(columns={'CAUSE.CATEGORY': 'CAUSE', \n",
    "                        'OUTAGE.DURATION': 'DURATION'})\n",
    "df['ANOMALY.LEVEL'] = df['ANOMALY.LEVEL'].apply(float)\n",
    "df['DURATION'] = df['DURATION'].apply(float)\n",
    "df.head()"
   ]
  },
  {
   "cell_type": "markdown",
   "metadata": {},
   "source": [
    "Anomaly level is quantitative, while cause category is nominal. For the prediction task, cause category is one hot encoded while anomaly level is left as is."
   ]
  },
  {
   "cell_type": "code",
   "execution_count": 8,
   "metadata": {},
   "outputs": [],
   "source": [
    "#Split data into training and testing sets\n",
    "X = df.drop('DURATION', axis=1)\n",
    "X_train, X_test, y_train, y_test = train_test_split(X, df['DURATION'])\n",
    "#Define transformations for all columns\n",
    "preproc = ColumnTransformer([\n",
    "    ('ohe', OneHotEncoder(drop='first', handle_unknown='ignore'), ['CAUSE'])],\n",
    "    remainder='passthrough'\n",
    ")\n",
    "#Pipeline with transformations and model\n",
    "pl = Pipeline([\n",
    "    ('preproc', preproc),\n",
    "    ('lr', LinearRegression())\n",
    "])"
   ]
  },
  {
   "cell_type": "code",
   "execution_count": 9,
   "metadata": {},
   "outputs": [
    {
     "data": {
      "text/plain": [
       "(2178.158899718165, 0.27649647381457687)"
      ]
     },
     "execution_count": 9,
     "metadata": {},
     "output_type": "execute_result"
    }
   ],
   "source": [
    "#Fit and evaluate model\n",
    "pl.fit(X_train, y_train)\n",
    "preds = pl.predict(X_test)\n",
    "mae = (preds - y_test).abs().mean()\n",
    "r_sq = pl.score(X_test, y_test)\n",
    "mae, r_sq"
   ]
  },
  {
   "cell_type": "code",
   "execution_count": 10,
   "metadata": {},
   "outputs": [
    {
     "data": {
      "image/png": "[encoded data removed]",
      "text/plain": [
       "<Figure size 432x288 with 1 Axes>"
      ]
     },
     "metadata": {
      "image/png": {
       "height": 261,
       "width": 382
      },
      "needs_background": "light"
     },
     "output_type": "display_data"
    }
   ],
   "source": [
    "#Plot histogram of MAE\n",
    "sns.histplot((preds-y_test).abs(), stat='percent', bins=20)\n",
    "plt.show()"
   ]
  },
  {
   "cell_type": "markdown",
   "metadata": {},
   "source": [
    "The baseline model performed well for most cases as reflected by a mean absolute error around 40min, however there were also predictions that were very far off. Based on these results the model seems somewhat capable of generalizing to most unseen data but utterly fails for some cases. The low $R^2$ suggests that a linear model is not appropriate so ultimately, the model needs significant improvement."
   ]
  },
  {
   "cell_type": "markdown",
   "metadata": {},
   "source": [
    "### Final Model"
   ]
  },
  {
   "cell_type": "code",
   "execution_count": 11,
   "metadata": {},
   "outputs": [],
   "source": [
    "from sklearn.tree import DecisionTreeRegressor\n",
    "from sklearn.model_selection import GridSearchCV"
   ]
  },
  {
   "cell_type": "markdown",
   "metadata": {},
   "source": [
    "To improve the original model, the nominal variable climate region and quantitative start time column are added as a predictors.\n",
    "\n",
    "States and regions that are more prone to harsh weather such as hurricanes, are more prepared and better-equipped when it comes to restoration, thus we should expect outages that occur in certain climate regions to have shorter restoration times. One hot encoding is used once again to quantify this categorical data.\n",
    "\n",
    "In the investigation in project 3, it was found that power outages that began outside of normal working hours (8AM-6PM) took longer to restore than outages that began during them. Power outage start times are binarized to encode whether or not an outage began outside of working hours.\n",
    "\n",
    "The linear regression estimator is replaced by a regression tree due to the low $R^2$ obtained in the original model."
   ]
  },
  {
   "cell_type": "code",
   "execution_count": 12,
   "metadata": {
    "scrolled": true
   },
   "outputs": [
    {
     "data": {
      "text/html": [
       "<div>\n",
       "<style scoped>\n",
       "    .dataframe tbody tr th:only-of-type {\n",
       "        vertical-align: middle;\n",
       "    }\n",
       "\n",
       "    .dataframe tbody tr th {\n",
       "        vertical-align: top;\n",
       "    }\n",
       "\n",
       "    .dataframe thead th {\n",
       "        text-align: right;\n",
       "    }\n",
       "</style>\n",
       "<table border=\"1\" class=\"dataframe\">\n",
       "  <thead>\n",
       "    <tr style=\"text-align: right;\">\n",
       "      <th></th>\n",
       "      <th>ANOMALY.LEVEL</th>\n",
       "      <th>CAUSE</th>\n",
       "      <th>DURATION</th>\n",
       "      <th>REGION</th>\n",
       "      <th>TIME</th>\n",
       "    </tr>\n",
       "    <tr>\n",
       "      <th>OBS</th>\n",
       "      <th></th>\n",
       "      <th></th>\n",
       "      <th></th>\n",
       "      <th></th>\n",
       "      <th></th>\n",
       "    </tr>\n",
       "  </thead>\n",
       "  <tbody>\n",
       "    <tr>\n",
       "      <th>1</th>\n",
       "      <td>-0.3</td>\n",
       "      <td>severe weather</td>\n",
       "      <td>3060.0</td>\n",
       "      <td>East North Central</td>\n",
       "      <td>17:00:00</td>\n",
       "    </tr>\n",
       "    <tr>\n",
       "      <th>2</th>\n",
       "      <td>-0.1</td>\n",
       "      <td>intentional attack</td>\n",
       "      <td>1.0</td>\n",
       "      <td>East North Central</td>\n",
       "      <td>18:38:00</td>\n",
       "    </tr>\n",
       "    <tr>\n",
       "      <th>3</th>\n",
       "      <td>-1.5</td>\n",
       "      <td>severe weather</td>\n",
       "      <td>3000.0</td>\n",
       "      <td>East North Central</td>\n",
       "      <td>20:00:00</td>\n",
       "    </tr>\n",
       "    <tr>\n",
       "      <th>4</th>\n",
       "      <td>-0.1</td>\n",
       "      <td>severe weather</td>\n",
       "      <td>2550.0</td>\n",
       "      <td>East North Central</td>\n",
       "      <td>04:30:00</td>\n",
       "    </tr>\n",
       "    <tr>\n",
       "      <th>5</th>\n",
       "      <td>1.2</td>\n",
       "      <td>severe weather</td>\n",
       "      <td>1740.0</td>\n",
       "      <td>East North Central</td>\n",
       "      <td>02:00:00</td>\n",
       "    </tr>\n",
       "  </tbody>\n",
       "</table>\n",
       "</div>"
      ],
      "text/plain": [
       "     ANOMALY.LEVEL               CAUSE  DURATION              REGION      TIME\n",
       "OBS                                                                           \n",
       "1             -0.3      severe weather    3060.0  East North Central  17:00:00\n",
       "2             -0.1  intentional attack       1.0  East North Central  18:38:00\n",
       "3             -1.5      severe weather    3000.0  East North Central  20:00:00\n",
       "4             -0.1      severe weather    2550.0  East North Central  04:30:00\n",
       "5              1.2      severe weather    1740.0  East North Central  02:00:00"
      ]
     },
     "execution_count": 12,
     "metadata": {},
     "output_type": "execute_result"
    }
   ],
   "source": [
    "#Add CLIMATE.REGION column to df\n",
    "df = df.assign(REGION=outages['CLIMATE.REGION'])\n",
    "df = df.assign(TIME=outages['OUTAGE.START.TIME'])\n",
    "df.head()"
   ]
  },
  {
   "cell_type": "code",
   "execution_count": 13,
   "metadata": {},
   "outputs": [
    {
     "data": {
      "text/html": [
       "<div>\n",
       "<style scoped>\n",
       "    .dataframe tbody tr th:only-of-type {\n",
       "        vertical-align: middle;\n",
       "    }\n",
       "\n",
       "    .dataframe tbody tr th {\n",
       "        vertical-align: top;\n",
       "    }\n",
       "\n",
       "    .dataframe thead th {\n",
       "        text-align: right;\n",
       "    }\n",
       "</style>\n",
       "<table border=\"1\" class=\"dataframe\">\n",
       "  <thead>\n",
       "    <tr style=\"text-align: right;\">\n",
       "      <th></th>\n",
       "      <th>ANOMALY.LEVEL</th>\n",
       "      <th>CAUSE</th>\n",
       "      <th>DURATION</th>\n",
       "      <th>REGION</th>\n",
       "      <th>TIME</th>\n",
       "    </tr>\n",
       "    <tr>\n",
       "      <th>OBS</th>\n",
       "      <th></th>\n",
       "      <th></th>\n",
       "      <th></th>\n",
       "      <th></th>\n",
       "      <th></th>\n",
       "    </tr>\n",
       "  </thead>\n",
       "  <tbody>\n",
       "    <tr>\n",
       "      <th>1</th>\n",
       "      <td>-0.3</td>\n",
       "      <td>severe weather</td>\n",
       "      <td>3060.0</td>\n",
       "      <td>East North Central</td>\n",
       "      <td>17</td>\n",
       "    </tr>\n",
       "    <tr>\n",
       "      <th>2</th>\n",
       "      <td>-0.1</td>\n",
       "      <td>intentional attack</td>\n",
       "      <td>1.0</td>\n",
       "      <td>East North Central</td>\n",
       "      <td>18</td>\n",
       "    </tr>\n",
       "    <tr>\n",
       "      <th>3</th>\n",
       "      <td>-1.5</td>\n",
       "      <td>severe weather</td>\n",
       "      <td>3000.0</td>\n",
       "      <td>East North Central</td>\n",
       "      <td>20</td>\n",
       "    </tr>\n",
       "    <tr>\n",
       "      <th>4</th>\n",
       "      <td>-0.1</td>\n",
       "      <td>severe weather</td>\n",
       "      <td>2550.0</td>\n",
       "      <td>East North Central</td>\n",
       "      <td>4</td>\n",
       "    </tr>\n",
       "    <tr>\n",
       "      <th>5</th>\n",
       "      <td>1.2</td>\n",
       "      <td>severe weather</td>\n",
       "      <td>1740.0</td>\n",
       "      <td>East North Central</td>\n",
       "      <td>2</td>\n",
       "    </tr>\n",
       "  </tbody>\n",
       "</table>\n",
       "</div>"
      ],
      "text/plain": [
       "     ANOMALY.LEVEL               CAUSE  DURATION              REGION  TIME\n",
       "OBS                                                                       \n",
       "1             -0.3      severe weather    3060.0  East North Central    17\n",
       "2             -0.1  intentional attack       1.0  East North Central    18\n",
       "3             -1.5      severe weather    3000.0  East North Central    20\n",
       "4             -0.1      severe weather    2550.0  East North Central     4\n",
       "5              1.2      severe weather    1740.0  East North Central     2"
      ]
     },
     "execution_count": 13,
     "metadata": {},
     "output_type": "execute_result"
    }
   ],
   "source": [
    "#Extract hour from start time to proper format for Binarizer\n",
    "df['TIME'] = df['TIME'].apply(lambda x: x.hour)\n",
    "df.head()"
   ]
  },
  {
   "cell_type": "code",
   "execution_count": 14,
   "metadata": {},
   "outputs": [],
   "source": [
    "#Merge start times and regions column to input datasets originally split for the baseline model\n",
    "X_train = X_train.merge(df['TIME'], left_index=True, right_index=True)\n",
    "X_test = X_test.merge(df['TIME'], left_index=True, right_index=True)\n",
    "X_train = X_train.merge(df['REGION'], left_index=True, right_index=True)\n",
    "X_test = X_test.merge(df['REGION'], left_index=True, right_index=True)\n",
    "#Define transformations for all columns\n",
    "preproc = ColumnTransformer([\n",
    "    ('bin', Binarizer(threshold=16), ['TIME']),\n",
    "    ('ohe', OneHotEncoder(drop='first', handle_unknown='ignore'), ['CAUSE', 'REGION'])],\n",
    "    remainder='passthrough')"
   ]
  },
  {
   "cell_type": "code",
   "execution_count": 15,
   "metadata": {},
   "outputs": [
    {
     "data": {
      "text/plain": [
       "(2, 'squared_error', 2)"
      ]
     },
     "execution_count": 15,
     "metadata": {},
     "output_type": "execute_result"
    }
   ],
   "source": [
    "#Perform CV for the best max-depth for Decision Tree Regressor\n",
    "hp = {\n",
    "    'max_depth': [2,3,4,5,6,7,8,9,10],\n",
    "    'min_samples_split': [2,3,4,5],\n",
    "    'criterion': ['squared_error', 'friedman_mse', 'absolute_error', 'poisson']\n",
    "}\n",
    "searcher = GridSearchCV(DecisionTreeRegressor(), hp, cv=8)\n",
    "preproc.fit(X_train)\n",
    "proc_X_train = preproc.transform(X_train)\n",
    "\n",
    "searcher.fit(proc_X_train, y_train)\n",
    "depth = searcher.best_params_['max_depth']\n",
    "crit = searcher.best_params_['criterion']\n",
    "samples = searcher.best_params_['min_samples_split']\n",
    "depth, crit, samples"
   ]
  },
  {
   "cell_type": "code",
   "execution_count": 16,
   "metadata": {},
   "outputs": [],
   "source": [
    "#Pipeline with transformations and model\n",
    "pl = Pipeline([\n",
    "    ('preproc', preproc),\n",
    "    ('dtr', DecisionTreeRegressor(max_depth=depth, criterion=crit, min_samples_split=samples))\n",
    "])"
   ]
  },
  {
   "cell_type": "code",
   "execution_count": 17,
   "metadata": {},
   "outputs": [
    {
     "data": {
      "text/plain": [
       "2269.167169567524"
      ]
     },
     "execution_count": 17,
     "metadata": {},
     "output_type": "execute_result"
    }
   ],
   "source": [
    "#Fit and evaluate model\n",
    "pl.fit(X_train, y_train)\n",
    "preds = pl.predict(X_test)\n",
    "mae = (preds - y_test).abs().mean()\n",
    "mae"
   ]
  },
  {
   "cell_type": "markdown",
   "metadata": {},
   "source": [
    "There was a slight improvement to the final model's predictions from the baseline, with the mean absolute error reducing from 40min to around 25-30min. With predictions that are typically only off by about half an hour, an electricity company can report fairly correct estimates for power restoration times."
   ]
  },
  {
   "cell_type": "markdown",
   "metadata": {},
   "source": [
    "To achieve better performance, I propose excluding outliers from the training set as outliers tend to hold much leverage over regression tasks thus they could have negative impact on the prediction task here"
   ]
  },
  {
   "cell_type": "markdown",
   "metadata": {},
   "source": [
    "### Fairness Analysis"
   ]
  },
  {
   "cell_type": "markdown",
   "metadata": {},
   "source": [
    "The primary concern for fairness in major power outage duration prediction is whether or not the model performs better for some geo-located climate regions than others. As per usual, mean absolute error is used to assess the performance within each region.\n",
    "\n",
    "If unfairness is present we should expect to see worse performance on regions that have a disproportionately small representation in the training set."
   ]
  },
  {
   "cell_type": "code",
   "execution_count": 18,
   "metadata": {},
   "outputs": [
    {
     "name": "stdout",
     "output_type": "stream",
     "text": [
      "Most represented region: South\n",
      "Least represented region: Central\n"
     ]
    }
   ],
   "source": [
    "#Determine the region that has the highest over/under representation in the training set\n",
    "reg_props = X_train['REGION'].value_counts() / X_train['REGION'].value_counts().sum()\n",
    "reg_prop_diffs = outages['CLIMATE.REGION'].value_counts() / outages['CLIMATE.REGION'].value_counts().sum() - reg_props\n",
    "over_region = reg_prop_diffs.idxmax()\n",
    "under_region = reg_prop_diffs.idxmin()\n",
    "print(f'Most represented region: {over_region}')\n",
    "print(f'Least represented region: {under_region}')"
   ]
  },
  {
   "cell_type": "markdown",
   "metadata": {},
   "source": [
    "More formally, a permutation test is run for the variables _over_region_ and _under_region_ defined above (may change due to randomness when splitting in the baseline model). The hypotheses are:\n",
    "* $H_0$: The mean absolute error for outage duration predictions is the same for the most overrepresented and most underrepresented regions\n",
    "* $H_1$: The mean absolute error for outage duration predictions is greater for the most underrepresented region than for the most overrepresented region\n",
    "\n",
    "The test statistic used is difference in mean absolute error and the significance level of $\\alpha=0.05$ is used."
   ]
  },
  {
   "cell_type": "code",
   "execution_count": 19,
   "metadata": {},
   "outputs": [
    {
     "data": {
      "text/html": [
       "<div>\n",
       "<style scoped>\n",
       "    .dataframe tbody tr th:only-of-type {\n",
       "        vertical-align: middle;\n",
       "    }\n",
       "\n",
       "    .dataframe tbody tr th {\n",
       "        vertical-align: top;\n",
       "    }\n",
       "\n",
       "    .dataframe thead th {\n",
       "        text-align: right;\n",
       "    }\n",
       "</style>\n",
       "<table border=\"1\" class=\"dataframe\">\n",
       "  <thead>\n",
       "    <tr style=\"text-align: right;\">\n",
       "      <th></th>\n",
       "      <th>ANOMALY.LEVEL</th>\n",
       "      <th>CAUSE</th>\n",
       "      <th>TIME</th>\n",
       "      <th>REGION</th>\n",
       "      <th>ABS_ERR</th>\n",
       "    </tr>\n",
       "    <tr>\n",
       "      <th>OBS</th>\n",
       "      <th></th>\n",
       "      <th></th>\n",
       "      <th></th>\n",
       "      <th></th>\n",
       "      <th></th>\n",
       "    </tr>\n",
       "  </thead>\n",
       "  <tbody>\n",
       "    <tr>\n",
       "      <th>1030</th>\n",
       "      <td>0.5</td>\n",
       "      <td>equipment failure</td>\n",
       "      <td>15</td>\n",
       "      <td>South</td>\n",
       "      <td>437.377210</td>\n",
       "    </tr>\n",
       "    <tr>\n",
       "      <th>297</th>\n",
       "      <td>-0.7</td>\n",
       "      <td>fuel supply emergency</td>\n",
       "      <td>8</td>\n",
       "      <td>Central</td>\n",
       "      <td>2342.583333</td>\n",
       "    </tr>\n",
       "    <tr>\n",
       "      <th>258</th>\n",
       "      <td>0.5</td>\n",
       "      <td>severe weather</td>\n",
       "      <td>19</td>\n",
       "      <td>South</td>\n",
       "      <td>2347.516637</td>\n",
       "    </tr>\n",
       "    <tr>\n",
       "      <th>855</th>\n",
       "      <td>-0.5</td>\n",
       "      <td>intentional attack</td>\n",
       "      <td>12</td>\n",
       "      <td>Central</td>\n",
       "      <td>707.377210</td>\n",
       "    </tr>\n",
       "    <tr>\n",
       "      <th>1433</th>\n",
       "      <td>-0.4</td>\n",
       "      <td>severe weather</td>\n",
       "      <td>16</td>\n",
       "      <td>South</td>\n",
       "      <td>1012.516637</td>\n",
       "    </tr>\n",
       "  </tbody>\n",
       "</table>\n",
       "</div>"
      ],
      "text/plain": [
       "      ANOMALY.LEVEL                  CAUSE  TIME   REGION      ABS_ERR\n",
       "OBS                                                                   \n",
       "1030            0.5      equipment failure    15    South   437.377210\n",
       "297            -0.7  fuel supply emergency     8  Central  2342.583333\n",
       "258             0.5         severe weather    19    South  2347.516637\n",
       "855            -0.5     intentional attack    12  Central   707.377210\n",
       "1433           -0.4         severe weather    16    South  1012.516637"
      ]
     },
     "execution_count": 19,
     "metadata": {},
     "output_type": "execute_result"
    }
   ],
   "source": [
    "#Assign prediction and response columns to testing dataset\n",
    "f_df = X_test.assign(ABS_ERR=(preds-y_test).abs())\n",
    "#Filter dataset into regions of interest\n",
    "f_df = f_df[X_test['REGION'].isin([over_region, under_region])]\n",
    "f_df.head()"
   ]
  },
  {
   "cell_type": "code",
   "execution_count": 20,
   "metadata": {},
   "outputs": [
    {
     "data": {
      "text/plain": [
       "array([ -154.35645535, -1128.38049719,  -118.77664186,  -848.34159157,\n",
       "        -639.12559727,   438.87836367,   -90.36230333,  -129.06242979,\n",
       "         207.32504852,   231.1086183 ])"
      ]
     },
     "execution_count": 20,
     "metadata": {},
     "output_type": "execute_result"
    }
   ],
   "source": [
    "#Function to compute test stat: Difference in MAE\n",
    "def diff_MAE(df):\n",
    "    mae_table = df.groupby('REGION')['ABS_ERR'].mean()\n",
    "    return mae_table[under_region] - mae_table[over_region] #Larger values suggest more error in underrepresented region\n",
    "\n",
    "#Observed test stat\n",
    "obs = diff_MAE(f_df)\n",
    "#Simulate test stats via permutation\n",
    "f_copy = f_df.copy()\n",
    "results = np.array([])\n",
    "reps = 10000\n",
    "for _ in range(reps):\n",
    "    shuffled = np.random.permutation(f_copy['REGION'])\n",
    "    f_copy['REGION'] = shuffled\n",
    "    results = np.append(results, diff_MAE(f_copy))\n",
    "results[:10]"
   ]
  },
  {
   "cell_type": "code",
   "execution_count": 21,
   "metadata": {},
   "outputs": [
    {
     "data": {
      "text/plain": [
       "0.2679"
      ]
     },
     "execution_count": 21,
     "metadata": {},
     "output_type": "execute_result"
    }
   ],
   "source": [
    "#Compute p-value\n",
    "(results >= obs).mean()"
   ]
  },
  {
   "cell_type": "markdown",
   "metadata": {},
   "source": [
    "The p-value was greater than the significance level thus we fail to reject the null hypothesis. It seems that the difference in mean absolute error between the region with the highest overrepresentation is the same as the region with the greatest underrepresentation in training. This test alone however, is insufficient to conclude that the model is fair to all regions since it only examines a single pairing of regions.\n",
    "\n",
    "To supplement the previous assessment of fairness, a test considering all regions is conducted. Below an ANOVA test of the mean absolute error is run on all the original testing columns. The hypotheses are:\n",
    "* $H_0$: The mean absolute errors of every region is equal\n",
    "* $H_1$: At least one region has a mean absolute error that is different than the others\n",
    "Once again, a significance level of $\\alpha=0.05$ is used."
   ]
  },
  {
   "cell_type": "code",
   "execution_count": 22,
   "metadata": {},
   "outputs": [],
   "source": [
    "from scipy.stats import f_oneway"
   ]
  },
  {
   "cell_type": "code",
   "execution_count": 23,
   "metadata": {},
   "outputs": [
    {
     "data": {
      "text/html": [
       "<div>\n",
       "<style scoped>\n",
       "    .dataframe tbody tr th:only-of-type {\n",
       "        vertical-align: middle;\n",
       "    }\n",
       "\n",
       "    .dataframe tbody tr th {\n",
       "        vertical-align: top;\n",
       "    }\n",
       "\n",
       "    .dataframe thead th {\n",
       "        text-align: right;\n",
       "    }\n",
       "</style>\n",
       "<table border=\"1\" class=\"dataframe\">\n",
       "  <thead>\n",
       "    <tr style=\"text-align: right;\">\n",
       "      <th></th>\n",
       "      <th>ANOMALY.LEVEL</th>\n",
       "      <th>CAUSE</th>\n",
       "      <th>TIME</th>\n",
       "      <th>REGION</th>\n",
       "      <th>ABS_ERR</th>\n",
       "    </tr>\n",
       "    <tr>\n",
       "      <th>OBS</th>\n",
       "      <th></th>\n",
       "      <th></th>\n",
       "      <th></th>\n",
       "      <th></th>\n",
       "      <th></th>\n",
       "    </tr>\n",
       "  </thead>\n",
       "  <tbody>\n",
       "    <tr>\n",
       "      <th>530</th>\n",
       "      <td>0.3</td>\n",
       "      <td>intentional attack</td>\n",
       "      <td>0</td>\n",
       "      <td>Northeast</td>\n",
       "      <td>731.377210</td>\n",
       "    </tr>\n",
       "    <tr>\n",
       "      <th>955</th>\n",
       "      <td>-0.9</td>\n",
       "      <td>severe weather</td>\n",
       "      <td>16</td>\n",
       "      <td>Northeast</td>\n",
       "      <td>2166.483363</td>\n",
       "    </tr>\n",
       "    <tr>\n",
       "      <th>424</th>\n",
       "      <td>0.6</td>\n",
       "      <td>intentional attack</td>\n",
       "      <td>23</td>\n",
       "      <td>Northwest</td>\n",
       "      <td>69.377210</td>\n",
       "    </tr>\n",
       "    <tr>\n",
       "      <th>1030</th>\n",
       "      <td>0.5</td>\n",
       "      <td>equipment failure</td>\n",
       "      <td>15</td>\n",
       "      <td>South</td>\n",
       "      <td>437.377210</td>\n",
       "    </tr>\n",
       "    <tr>\n",
       "      <th>139</th>\n",
       "      <td>-0.9</td>\n",
       "      <td>severe weather</td>\n",
       "      <td>19</td>\n",
       "      <td>East North Central</td>\n",
       "      <td>2122.483363</td>\n",
       "    </tr>\n",
       "  </tbody>\n",
       "</table>\n",
       "</div>"
      ],
      "text/plain": [
       "      ANOMALY.LEVEL               CAUSE  TIME              REGION      ABS_ERR\n",
       "OBS                                                                           \n",
       "530             0.3  intentional attack     0           Northeast   731.377210\n",
       "955            -0.9      severe weather    16           Northeast  2166.483363\n",
       "424             0.6  intentional attack    23           Northwest    69.377210\n",
       "1030            0.5   equipment failure    15               South   437.377210\n",
       "139            -0.9      severe weather    19  East North Central  2122.483363"
      ]
     },
     "execution_count": 23,
     "metadata": {},
     "output_type": "execute_result"
    }
   ],
   "source": [
    "#Assign column with absolute errors\n",
    "anova_df = X_test.assign(ABS_ERR=(preds-y_test).abs())\n",
    "anova_df.head()"
   ]
  },
  {
   "cell_type": "code",
   "execution_count": 24,
   "metadata": {},
   "outputs": [
    {
     "data": {
      "text/plain": [
       "F_onewayResult(statistic=1.5302524236438295, pvalue=0.14515202905304284)"
      ]
     },
     "execution_count": 24,
     "metadata": {},
     "output_type": "execute_result"
    }
   ],
   "source": [
    "#Separate errors by region\n",
    "samples = []\n",
    "for reg, reg_df in anova_df.groupby('REGION'):\n",
    "    samples.append(reg_df['ABS_ERR'].to_numpy())\n",
    "#Run ANOVA\n",
    "f_oneway(*samples)"
   ]
  },
  {
   "cell_type": "markdown",
   "metadata": {},
   "source": [
    "Once again, the p-value is greater than the significance level. We fail to reject the null hypothesis, it appears that the mean absolute errors for each region are very similar. While both these tests seem to suggest that the model is fair, other tests may reveal the contrary. Ultimately, we cannot conclude that the model is fair for every region without further testing."
   ]
  },
  {
   "cell_type": "code",
   "execution_count": null,
   "metadata": {},
   "outputs": [],
   "source": []
  }
 ],
 "metadata": {
  "kernelspec": {
   "display_name": "Python 3 (ipykernel)",
   "language": "python",
   "name": "python3"
  },
  "language_info": {
   "codemirror_mode": {
    "name": "ipython",
    "version": 3
   },
   "file_extension": ".py",
   "mimetype": "text/x-python",
   "name": "python",
   "nbconvert_exporter": "python",
   "pygments_lexer": "ipython3",
   "version": "3.9.12"
  }
 },
 "nbformat": 4,
 "nbformat_minor": 2
}
