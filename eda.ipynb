{
 "cells": [
  {
   "cell_type": "markdown",
   "metadata": {},
   "source": [
    "# US Power Outage Durations in the Day vs. Night\n",
    "\n",
    "Tommy Shen"
   ]
  },
  {
   "cell_type": "markdown",
   "metadata": {},
   "source": [
    "## Summary of Findings\n",
    "\n",
    "### Introduction\n",
    "The power outage dataset from Purdue contains data pertaining to major power outages in the US from 2000-2015 and aggregates it with geographical, climate, economical, and time of occurrence information.\n",
    "\n",
    "### Cleaning and EDA\n",
    "The first step in the cleaning process was to reformat the excel table into a tidy format. Quantitative and time-related columns were typecast into numerical or Timestamp/datetime objects or their corresponding null types. Many of the original 55 variables were dropped. Since none of these steps involved imputing missing data or altering raw values, the data still accurately reflects the original data generating process.\n",
    "\n",
    "### Assessment of Missingness\n",
    "The missingness of the number of customers affected column is examined in this section. First the dependency of missingness was tested against the region's overseeing company using a permutation test of total variance distances. The result was statistically significant against an $\\alpha$ = 0.05 significance level, suggesting that customer impact data is more likely to be missing for certain companies than others.\n",
    "\n",
    "Next, the missingness of the number of customers affected column was tested against the climate category of the outage. With another permutation test of total variance distances on an $\\alpha$ = 0.05 significance level, a non-statistically significant result was yielded. This suggests that the missingness of the number of customers does not depend on the climate type.\n",
    "\n",
    "### Hypothesis Test\n",
    "The focus of this section was whether or not the durations of power outages that occured after normal working hours were longer than those that occured during the typical workday. Specifically, the hypotheses were:\n",
    "* $H_0$ = Power outage durations are similarly distributed regardless of when they occur\n",
    "* $H_1$ = Power outages that start after-hours last longer\n",
    "\n",
    "After running a permutation test of the difference in the mean durations of the two time categories, we obtained a statistically significant result against an $\\alpha$ = 0.05 significance level, which suggests that major power outages in the US do last longer when they begin at night. One limitation of this analysis however, is that normal working hours are assumed to be 8AM to 5PM in the region's local time, which may not be accurate for all the service companies."
   ]
  },
  {
   "cell_type": "markdown",
   "metadata": {},
   "source": [
    "## Code"
   ]
  },
  {
   "cell_type": "code",
   "execution_count": 1,
   "metadata": {
    "ExecuteTime": {
     "end_time": "2019-10-31T23:36:28.652554Z",
     "start_time": "2019-10-31T23:36:27.180520Z"
    }
   },
   "outputs": [],
   "source": [
    "import matplotlib.pyplot as plt\n",
    "import numpy as np\n",
    "import os\n",
    "import pandas as pd\n",
    "import seaborn as sns\n",
    "import re\n",
    "import datetime"
   ]
  },
  {
   "cell_type": "markdown",
   "metadata": {},
   "source": [
    "### Cleaning and EDA"
   ]
  },
  {
   "cell_type": "markdown",
   "metadata": {},
   "source": [
    "After loading the excel data of power outages into jupyter notebook, a few things are immediately noticeable:\n",
    "* Column names are found on line 4 followed by a units label\n",
    "* The first column is empty\n",
    "* An observation id is provided under 'OBS'"
   ]
  },
  {
   "cell_type": "code",
   "execution_count": 2,
   "metadata": {
    "ExecuteTime": {
     "end_time": "2019-10-31T23:36:28.657068Z",
     "start_time": "2019-10-31T23:36:28.654650Z"
    },
    "scrolled": false
   },
   "outputs": [
    {
     "data": {
      "text/html": [
       "<div>\n",
       "<style scoped>\n",
       "    .dataframe tbody tr th:only-of-type {\n",
       "        vertical-align: middle;\n",
       "    }\n",
       "\n",
       "    .dataframe tbody tr th {\n",
       "        vertical-align: top;\n",
       "    }\n",
       "\n",
       "    .dataframe thead th {\n",
       "        text-align: right;\n",
       "    }\n",
       "</style>\n",
       "<table border=\"1\" class=\"dataframe\">\n",
       "  <thead>\n",
       "    <tr style=\"text-align: right;\">\n",
       "      <th></th>\n",
       "      <th>Major power outage events in the continental U.S.</th>\n",
       "      <th>Unnamed: 1</th>\n",
       "      <th>Unnamed: 2</th>\n",
       "      <th>Unnamed: 3</th>\n",
       "      <th>Unnamed: 4</th>\n",
       "      <th>Unnamed: 5</th>\n",
       "      <th>Unnamed: 6</th>\n",
       "      <th>Unnamed: 7</th>\n",
       "      <th>Unnamed: 8</th>\n",
       "    </tr>\n",
       "  </thead>\n",
       "  <tbody>\n",
       "    <tr>\n",
       "      <th>0</th>\n",
       "      <td>Time period: January 2000 - July 2016</td>\n",
       "      <td>NaN</td>\n",
       "      <td>NaN</td>\n",
       "      <td>NaN</td>\n",
       "      <td>NaN</td>\n",
       "      <td>NaN</td>\n",
       "      <td>NaN</td>\n",
       "      <td>NaN</td>\n",
       "      <td>NaN</td>\n",
       "    </tr>\n",
       "    <tr>\n",
       "      <th>1</th>\n",
       "      <td>Regions affected: Outages reported in this dat...</td>\n",
       "      <td>NaN</td>\n",
       "      <td>NaN</td>\n",
       "      <td>NaN</td>\n",
       "      <td>NaN</td>\n",
       "      <td>NaN</td>\n",
       "      <td>NaN</td>\n",
       "      <td>NaN</td>\n",
       "      <td>NaN</td>\n",
       "    </tr>\n",
       "    <tr>\n",
       "      <th>2</th>\n",
       "      <td>NaN</td>\n",
       "      <td>NaN</td>\n",
       "      <td>NaN</td>\n",
       "      <td>NaN</td>\n",
       "      <td>NaN</td>\n",
       "      <td>NaN</td>\n",
       "      <td>NaN</td>\n",
       "      <td>NaN</td>\n",
       "      <td>NaN</td>\n",
       "    </tr>\n",
       "    <tr>\n",
       "      <th>3</th>\n",
       "      <td>NaN</td>\n",
       "      <td>NaN</td>\n",
       "      <td>NaN</td>\n",
       "      <td>NaN</td>\n",
       "      <td>NaN</td>\n",
       "      <td>NaN</td>\n",
       "      <td>NaN</td>\n",
       "      <td>NaN</td>\n",
       "      <td>NaN</td>\n",
       "    </tr>\n",
       "    <tr>\n",
       "      <th>4</th>\n",
       "      <td>variables</td>\n",
       "      <td>OBS</td>\n",
       "      <td>YEAR</td>\n",
       "      <td>MONTH</td>\n",
       "      <td>U.S._STATE</td>\n",
       "      <td>POSTAL.CODE</td>\n",
       "      <td>NERC.REGION</td>\n",
       "      <td>CLIMATE.REGION</td>\n",
       "      <td>ANOMALY.LEVEL</td>\n",
       "    </tr>\n",
       "    <tr>\n",
       "      <th>5</th>\n",
       "      <td>Units</td>\n",
       "      <td>NaN</td>\n",
       "      <td>NaN</td>\n",
       "      <td>NaN</td>\n",
       "      <td>NaN</td>\n",
       "      <td>NaN</td>\n",
       "      <td>NaN</td>\n",
       "      <td>NaN</td>\n",
       "      <td>numeric</td>\n",
       "    </tr>\n",
       "    <tr>\n",
       "      <th>6</th>\n",
       "      <td>NaN</td>\n",
       "      <td>1</td>\n",
       "      <td>2011</td>\n",
       "      <td>7</td>\n",
       "      <td>Minnesota</td>\n",
       "      <td>MN</td>\n",
       "      <td>MRO</td>\n",
       "      <td>East North Central</td>\n",
       "      <td>-0.3</td>\n",
       "    </tr>\n",
       "  </tbody>\n",
       "</table>\n",
       "</div>"
      ],
      "text/plain": [
       "   Major power outage events in the continental U.S. Unnamed: 1 Unnamed: 2  \\\n",
       "0              Time period: January 2000 - July 2016        NaN        NaN   \n",
       "1  Regions affected: Outages reported in this dat...        NaN        NaN   \n",
       "2                                                NaN        NaN        NaN   \n",
       "3                                                NaN        NaN        NaN   \n",
       "4                                          variables        OBS       YEAR   \n",
       "5                                              Units        NaN        NaN   \n",
       "6                                                NaN          1       2011   \n",
       "\n",
       "  Unnamed: 3  Unnamed: 4   Unnamed: 5   Unnamed: 6          Unnamed: 7  \\\n",
       "0        NaN         NaN          NaN          NaN                 NaN   \n",
       "1        NaN         NaN          NaN          NaN                 NaN   \n",
       "2        NaN         NaN          NaN          NaN                 NaN   \n",
       "3        NaN         NaN          NaN          NaN                 NaN   \n",
       "4      MONTH  U.S._STATE  POSTAL.CODE  NERC.REGION      CLIMATE.REGION   \n",
       "5        NaN         NaN          NaN          NaN                 NaN   \n",
       "6          7   Minnesota           MN          MRO  East North Central   \n",
       "\n",
       "      Unnamed: 8  \n",
       "0            NaN  \n",
       "1            NaN  \n",
       "2            NaN  \n",
       "3            NaN  \n",
       "4  ANOMALY.LEVEL  \n",
       "5        numeric  \n",
       "6           -0.3  "
      ]
     },
     "execution_count": 2,
     "metadata": {},
     "output_type": "execute_result"
    }
   ],
   "source": [
    "#Load and preview dataset\n",
    "outages = pd.read_excel('outage.xlsx')\n",
    "outages.loc[0:6][outages.columns[0:9]]"
   ]
  },
  {
   "cell_type": "code",
   "execution_count": 3,
   "metadata": {
    "scrolled": true
   },
   "outputs": [
    {
     "data": {
      "text/html": [
       "<div>\n",
       "<style scoped>\n",
       "    .dataframe tbody tr th:only-of-type {\n",
       "        vertical-align: middle;\n",
       "    }\n",
       "\n",
       "    .dataframe tbody tr th {\n",
       "        vertical-align: top;\n",
       "    }\n",
       "\n",
       "    .dataframe thead th {\n",
       "        text-align: right;\n",
       "    }\n",
       "</style>\n",
       "<table border=\"1\" class=\"dataframe\">\n",
       "  <thead>\n",
       "    <tr style=\"text-align: right;\">\n",
       "      <th></th>\n",
       "      <th>YEAR</th>\n",
       "      <th>MONTH</th>\n",
       "      <th>U.S._STATE</th>\n",
       "      <th>POSTAL.CODE</th>\n",
       "      <th>NERC.REGION</th>\n",
       "      <th>CLIMATE.REGION</th>\n",
       "      <th>ANOMALY.LEVEL</th>\n",
       "      <th>CLIMATE.CATEGORY</th>\n",
       "      <th>OUTAGE.START.DATE</th>\n",
       "      <th>OUTAGE.START.TIME</th>\n",
       "      <th>...</th>\n",
       "      <th>POPPCT_URBAN</th>\n",
       "      <th>POPPCT_UC</th>\n",
       "      <th>POPDEN_URBAN</th>\n",
       "      <th>POPDEN_UC</th>\n",
       "      <th>POPDEN_RURAL</th>\n",
       "      <th>AREAPCT_URBAN</th>\n",
       "      <th>AREAPCT_UC</th>\n",
       "      <th>PCT_LAND</th>\n",
       "      <th>PCT_WATER_TOT</th>\n",
       "      <th>PCT_WATER_INLAND</th>\n",
       "    </tr>\n",
       "    <tr>\n",
       "      <th>OBS</th>\n",
       "      <th></th>\n",
       "      <th></th>\n",
       "      <th></th>\n",
       "      <th></th>\n",
       "      <th></th>\n",
       "      <th></th>\n",
       "      <th></th>\n",
       "      <th></th>\n",
       "      <th></th>\n",
       "      <th></th>\n",
       "      <th></th>\n",
       "      <th></th>\n",
       "      <th></th>\n",
       "      <th></th>\n",
       "      <th></th>\n",
       "      <th></th>\n",
       "      <th></th>\n",
       "      <th></th>\n",
       "      <th></th>\n",
       "      <th></th>\n",
       "      <th></th>\n",
       "    </tr>\n",
       "  </thead>\n",
       "  <tbody>\n",
       "    <tr>\n",
       "      <th>1</th>\n",
       "      <td>2011</td>\n",
       "      <td>7</td>\n",
       "      <td>Minnesota</td>\n",
       "      <td>MN</td>\n",
       "      <td>MRO</td>\n",
       "      <td>East North Central</td>\n",
       "      <td>-0.3</td>\n",
       "      <td>normal</td>\n",
       "      <td>2011-07-01 00:00:00</td>\n",
       "      <td>17:00:00</td>\n",
       "      <td>...</td>\n",
       "      <td>73.27</td>\n",
       "      <td>15.28</td>\n",
       "      <td>2279</td>\n",
       "      <td>1700.5</td>\n",
       "      <td>18.2</td>\n",
       "      <td>2.14</td>\n",
       "      <td>0.6</td>\n",
       "      <td>91.592666</td>\n",
       "      <td>8.407334</td>\n",
       "      <td>5.478743</td>\n",
       "    </tr>\n",
       "    <tr>\n",
       "      <th>2</th>\n",
       "      <td>2014</td>\n",
       "      <td>5</td>\n",
       "      <td>Minnesota</td>\n",
       "      <td>MN</td>\n",
       "      <td>MRO</td>\n",
       "      <td>East North Central</td>\n",
       "      <td>-0.1</td>\n",
       "      <td>normal</td>\n",
       "      <td>2014-05-11 00:00:00</td>\n",
       "      <td>18:38:00</td>\n",
       "      <td>...</td>\n",
       "      <td>73.27</td>\n",
       "      <td>15.28</td>\n",
       "      <td>2279</td>\n",
       "      <td>1700.5</td>\n",
       "      <td>18.2</td>\n",
       "      <td>2.14</td>\n",
       "      <td>0.6</td>\n",
       "      <td>91.592666</td>\n",
       "      <td>8.407334</td>\n",
       "      <td>5.478743</td>\n",
       "    </tr>\n",
       "    <tr>\n",
       "      <th>3</th>\n",
       "      <td>2010</td>\n",
       "      <td>10</td>\n",
       "      <td>Minnesota</td>\n",
       "      <td>MN</td>\n",
       "      <td>MRO</td>\n",
       "      <td>East North Central</td>\n",
       "      <td>-1.5</td>\n",
       "      <td>cold</td>\n",
       "      <td>2010-10-26 00:00:00</td>\n",
       "      <td>20:00:00</td>\n",
       "      <td>...</td>\n",
       "      <td>73.27</td>\n",
       "      <td>15.28</td>\n",
       "      <td>2279</td>\n",
       "      <td>1700.5</td>\n",
       "      <td>18.2</td>\n",
       "      <td>2.14</td>\n",
       "      <td>0.6</td>\n",
       "      <td>91.592666</td>\n",
       "      <td>8.407334</td>\n",
       "      <td>5.478743</td>\n",
       "    </tr>\n",
       "    <tr>\n",
       "      <th>4</th>\n",
       "      <td>2012</td>\n",
       "      <td>6</td>\n",
       "      <td>Minnesota</td>\n",
       "      <td>MN</td>\n",
       "      <td>MRO</td>\n",
       "      <td>East North Central</td>\n",
       "      <td>-0.1</td>\n",
       "      <td>normal</td>\n",
       "      <td>2012-06-19 00:00:00</td>\n",
       "      <td>04:30:00</td>\n",
       "      <td>...</td>\n",
       "      <td>73.27</td>\n",
       "      <td>15.28</td>\n",
       "      <td>2279</td>\n",
       "      <td>1700.5</td>\n",
       "      <td>18.2</td>\n",
       "      <td>2.14</td>\n",
       "      <td>0.6</td>\n",
       "      <td>91.592666</td>\n",
       "      <td>8.407334</td>\n",
       "      <td>5.478743</td>\n",
       "    </tr>\n",
       "    <tr>\n",
       "      <th>5</th>\n",
       "      <td>2015</td>\n",
       "      <td>7</td>\n",
       "      <td>Minnesota</td>\n",
       "      <td>MN</td>\n",
       "      <td>MRO</td>\n",
       "      <td>East North Central</td>\n",
       "      <td>1.2</td>\n",
       "      <td>warm</td>\n",
       "      <td>2015-07-18 00:00:00</td>\n",
       "      <td>02:00:00</td>\n",
       "      <td>...</td>\n",
       "      <td>73.27</td>\n",
       "      <td>15.28</td>\n",
       "      <td>2279</td>\n",
       "      <td>1700.5</td>\n",
       "      <td>18.2</td>\n",
       "      <td>2.14</td>\n",
       "      <td>0.6</td>\n",
       "      <td>91.592666</td>\n",
       "      <td>8.407334</td>\n",
       "      <td>5.478743</td>\n",
       "    </tr>\n",
       "  </tbody>\n",
       "</table>\n",
       "<p>5 rows × 55 columns</p>\n",
       "</div>"
      ],
      "text/plain": [
       "     YEAR MONTH U.S._STATE POSTAL.CODE NERC.REGION      CLIMATE.REGION  \\\n",
       "OBS                                                                      \n",
       "1    2011     7  Minnesota          MN         MRO  East North Central   \n",
       "2    2014     5  Minnesota          MN         MRO  East North Central   \n",
       "3    2010    10  Minnesota          MN         MRO  East North Central   \n",
       "4    2012     6  Minnesota          MN         MRO  East North Central   \n",
       "5    2015     7  Minnesota          MN         MRO  East North Central   \n",
       "\n",
       "    ANOMALY.LEVEL CLIMATE.CATEGORY    OUTAGE.START.DATE OUTAGE.START.TIME  \\\n",
       "OBS                                                                         \n",
       "1            -0.3           normal  2011-07-01 00:00:00          17:00:00   \n",
       "2            -0.1           normal  2014-05-11 00:00:00          18:38:00   \n",
       "3            -1.5             cold  2010-10-26 00:00:00          20:00:00   \n",
       "4            -0.1           normal  2012-06-19 00:00:00          04:30:00   \n",
       "5             1.2             warm  2015-07-18 00:00:00          02:00:00   \n",
       "\n",
       "     ... POPPCT_URBAN POPPCT_UC POPDEN_URBAN POPDEN_UC POPDEN_RURAL  \\\n",
       "OBS  ...                                                              \n",
       "1    ...        73.27     15.28         2279    1700.5         18.2   \n",
       "2    ...        73.27     15.28         2279    1700.5         18.2   \n",
       "3    ...        73.27     15.28         2279    1700.5         18.2   \n",
       "4    ...        73.27     15.28         2279    1700.5         18.2   \n",
       "5    ...        73.27     15.28         2279    1700.5         18.2   \n",
       "\n",
       "    AREAPCT_URBAN AREAPCT_UC   PCT_LAND PCT_WATER_TOT PCT_WATER_INLAND  \n",
       "OBS                                                                     \n",
       "1            2.14        0.6  91.592666      8.407334         5.478743  \n",
       "2            2.14        0.6  91.592666      8.407334         5.478743  \n",
       "3            2.14        0.6  91.592666      8.407334         5.478743  \n",
       "4            2.14        0.6  91.592666      8.407334         5.478743  \n",
       "5            2.14        0.6  91.592666      8.407334         5.478743  \n",
       "\n",
       "[5 rows x 55 columns]"
      ]
     },
     "execution_count": 3,
     "metadata": {},
     "output_type": "execute_result"
    }
   ],
   "source": [
    "#Set proper column names, remove empty header cells, drop empty 'variables' column\n",
    "outages.columns = outages.loc[4].rename(None)\n",
    "outages = outages[6:]\n",
    "outages = outages.drop(['variables'], axis=1)\n",
    "#Set index to OBS\n",
    "outages = outages.set_index('OBS')\n",
    "outages.head()"
   ]
  },
  {
   "cell_type": "markdown",
   "metadata": {},
   "source": [
    "In this tidy rectangular format, we see that there are 55 variables on this dataset, many of which will not be used in the analysis. Columns related to the following are dropped:\n",
    "* electrical consumption/cost\n",
    "* regional economic characteristics\n",
    "* geographical variables\n",
    "* hurricane nomenclature\n",
    "* population density"
   ]
  },
  {
   "cell_type": "code",
   "execution_count": 4,
   "metadata": {
    "scrolled": true
   },
   "outputs": [],
   "source": [
    "outages = outages.drop(['HURRICANE.NAMES', 'RES.PRICE', 'COM.PRICE', 'IND.PRICE',\n",
    "       'TOTAL.PRICE', 'RES.SALES', 'COM.SALES', 'IND.SALES', 'TOTAL.SALES',\n",
    "       'RES.PERCEN', 'COM.PERCEN', 'IND.PERCEN', 'RES.CUSTOMERS', 'CLIMATE.REGION',\n",
    "       'COM.CUSTOMERS', 'IND.CUSTOMERS', 'TOTAL.CUSTOMERS', 'RES.CUST.PCT',\n",
    "       'COM.CUST.PCT', 'IND.CUST.PCT', 'PC.REALGSP.STATE', 'PC.REALGSP.USA',\n",
    "       'PC.REALGSP.REL', 'PC.REALGSP.CHANGE', 'UTIL.REALGSP', 'TOTAL.REALGSP',\n",
    "       'UTIL.CONTRI', 'PI.UTIL.OFUSA', 'POPULATION', 'POPPCT_URBAN',\n",
    "       'POPPCT_UC', 'POPDEN_URBAN', 'POPDEN_UC', 'POPDEN_RURAL',\n",
    "       'AREAPCT_URBAN', 'AREAPCT_UC', 'PCT_LAND', 'PCT_WATER_TOT',\n",
    "       'PCT_WATER_INLAND', 'DEMAND.LOSS.MW'], axis=1)"
   ]
  },
  {
   "cell_type": "markdown",
   "metadata": {},
   "source": [
    "After taking a closer look at the remaining columns, we see there is repeated data in some of the columns. For example, the 'YEAR' and 'MONTH' columns are already encoded in 'OUTAGE.START.DATE'. Such extraneous columns are dropped. "
   ]
  },
  {
   "cell_type": "code",
   "execution_count": 5,
   "metadata": {
    "scrolled": false
   },
   "outputs": [],
   "source": [
    "outages = outages.drop(['YEAR', 'MONTH', 'U.S._STATE'], axis=1)\n",
    "outages = outages.rename(columns={'POSTAL.CODE': 'STATE'})"
   ]
  },
  {
   "cell_type": "markdown",
   "metadata": {},
   "source": [
    "Remaining columns in this dataset are type-casted as needed and start and restoration date columns are combined with their corresponding clock times. Lengthy column names are shortened via renaming."
   ]
  },
  {
   "cell_type": "code",
   "execution_count": 6,
   "metadata": {},
   "outputs": [
    {
     "data": {
      "text/plain": [
       "STATE                      object\n",
       "NERC.REGION                object\n",
       "ANOMALY.LEVEL              object\n",
       "CLIMATE.CATEGORY           object\n",
       "OUTAGE.START.DATE          object\n",
       "OUTAGE.START.TIME          object\n",
       "OUTAGE.RESTORATION.DATE    object\n",
       "OUTAGE.RESTORATION.TIME    object\n",
       "CAUSE.CATEGORY             object\n",
       "CAUSE.CATEGORY.DETAIL      object\n",
       "OUTAGE.DURATION            object\n",
       "CUSTOMERS.AFFECTED         object\n",
       "dtype: object"
      ]
     },
     "execution_count": 6,
     "metadata": {},
     "output_type": "execute_result"
    }
   ],
   "source": [
    "#Examine column datatypes\n",
    "outages.dtypes"
   ]
  },
  {
   "cell_type": "code",
   "execution_count": 7,
   "metadata": {
    "scrolled": false
   },
   "outputs": [],
   "source": [
    "#Convert ['ANOMALY.LEVEL', 'OUTAGE.DURATION', 'CUSTOMERS.AFFECTED'] columns to floats\n",
    "outages['ANOMALY.LEVEL'] = outages['ANOMALY.LEVEL'].apply(float)\n",
    "outages['OUTAGE.DURATION'] = outages['OUTAGE.DURATION'].apply(float)\n",
    "outages['CUSTOMERS.AFFECTED'] = outages['CUSTOMERS.AFFECTED'].apply(float)\n",
    "#Convert start times to timedeltas and add to start date\n",
    "outages['OUTAGE.START.DATE'] = outages['OUTAGE.START.DATE'].fillna(pd.NaT)\n",
    "outages['OUTAGE.START.DATE'] = outages['OUTAGE.START.DATE'] + \\\n",
    "    outages['OUTAGE.START.TIME'].apply(lambda x: pd.NaT if pd.isna(x) else pd.Timedelta(x.hour*3600+x.minute*60+x.second, 's'))\n",
    "#Convert restoration times to timedeltas and add to restoration date\n",
    "outages['OUTAGE.RESTORATION.DATE'] = outages['OUTAGE.RESTORATION.DATE'].fillna(pd.NaT)\n",
    "outages['OUTAGE.RESTORATION.DATE'] = outages['OUTAGE.RESTORATION.DATE'] + \\\n",
    "    outages['OUTAGE.RESTORATION.TIME'].apply(lambda x: pd.NaT if pd.isna(x) else pd.Timedelta(x.hour*3600+x.minute*60+x.second, 's'))"
   ]
  },
  {
   "cell_type": "code",
   "execution_count": 8,
   "metadata": {},
   "outputs": [
    {
     "data": {
      "text/html": [
       "<div>\n",
       "<style scoped>\n",
       "    .dataframe tbody tr th:only-of-type {\n",
       "        vertical-align: middle;\n",
       "    }\n",
       "\n",
       "    .dataframe tbody tr th {\n",
       "        vertical-align: top;\n",
       "    }\n",
       "\n",
       "    .dataframe thead th {\n",
       "        text-align: right;\n",
       "    }\n",
       "</style>\n",
       "<table border=\"1\" class=\"dataframe\">\n",
       "  <thead>\n",
       "    <tr style=\"text-align: right;\">\n",
       "      <th></th>\n",
       "      <th>STATE</th>\n",
       "      <th>NERC.REGION</th>\n",
       "      <th>ANOMALY.LEVEL</th>\n",
       "      <th>CLIMATE.CATEGORY</th>\n",
       "      <th>START</th>\n",
       "      <th>START.TIME</th>\n",
       "      <th>END</th>\n",
       "      <th>END.TIME</th>\n",
       "      <th>CAUSE</th>\n",
       "      <th>DETAIL</th>\n",
       "      <th>DURATION</th>\n",
       "      <th>NUM.AFFECTED</th>\n",
       "    </tr>\n",
       "    <tr>\n",
       "      <th>OBS</th>\n",
       "      <th></th>\n",
       "      <th></th>\n",
       "      <th></th>\n",
       "      <th></th>\n",
       "      <th></th>\n",
       "      <th></th>\n",
       "      <th></th>\n",
       "      <th></th>\n",
       "      <th></th>\n",
       "      <th></th>\n",
       "      <th></th>\n",
       "      <th></th>\n",
       "    </tr>\n",
       "  </thead>\n",
       "  <tbody>\n",
       "    <tr>\n",
       "      <th>1</th>\n",
       "      <td>MN</td>\n",
       "      <td>MRO</td>\n",
       "      <td>-0.3</td>\n",
       "      <td>normal</td>\n",
       "      <td>2011-07-01 17:00:00</td>\n",
       "      <td>17:00:00</td>\n",
       "      <td>2011-07-03 20:00:00</td>\n",
       "      <td>20:00:00</td>\n",
       "      <td>severe weather</td>\n",
       "      <td>NaN</td>\n",
       "      <td>3060.0</td>\n",
       "      <td>70000.0</td>\n",
       "    </tr>\n",
       "    <tr>\n",
       "      <th>2</th>\n",
       "      <td>MN</td>\n",
       "      <td>MRO</td>\n",
       "      <td>-0.1</td>\n",
       "      <td>normal</td>\n",
       "      <td>2014-05-11 18:38:00</td>\n",
       "      <td>18:38:00</td>\n",
       "      <td>2014-05-11 18:39:00</td>\n",
       "      <td>18:39:00</td>\n",
       "      <td>intentional attack</td>\n",
       "      <td>vandalism</td>\n",
       "      <td>1.0</td>\n",
       "      <td>NaN</td>\n",
       "    </tr>\n",
       "    <tr>\n",
       "      <th>3</th>\n",
       "      <td>MN</td>\n",
       "      <td>MRO</td>\n",
       "      <td>-1.5</td>\n",
       "      <td>cold</td>\n",
       "      <td>2010-10-26 20:00:00</td>\n",
       "      <td>20:00:00</td>\n",
       "      <td>2010-10-28 22:00:00</td>\n",
       "      <td>22:00:00</td>\n",
       "      <td>severe weather</td>\n",
       "      <td>heavy wind</td>\n",
       "      <td>3000.0</td>\n",
       "      <td>70000.0</td>\n",
       "    </tr>\n",
       "    <tr>\n",
       "      <th>4</th>\n",
       "      <td>MN</td>\n",
       "      <td>MRO</td>\n",
       "      <td>-0.1</td>\n",
       "      <td>normal</td>\n",
       "      <td>2012-06-19 04:30:00</td>\n",
       "      <td>04:30:00</td>\n",
       "      <td>2012-06-20 23:00:00</td>\n",
       "      <td>23:00:00</td>\n",
       "      <td>severe weather</td>\n",
       "      <td>thunderstorm</td>\n",
       "      <td>2550.0</td>\n",
       "      <td>68200.0</td>\n",
       "    </tr>\n",
       "    <tr>\n",
       "      <th>5</th>\n",
       "      <td>MN</td>\n",
       "      <td>MRO</td>\n",
       "      <td>1.2</td>\n",
       "      <td>warm</td>\n",
       "      <td>2015-07-18 02:00:00</td>\n",
       "      <td>02:00:00</td>\n",
       "      <td>2015-07-19 07:00:00</td>\n",
       "      <td>07:00:00</td>\n",
       "      <td>severe weather</td>\n",
       "      <td>NaN</td>\n",
       "      <td>1740.0</td>\n",
       "      <td>250000.0</td>\n",
       "    </tr>\n",
       "  </tbody>\n",
       "</table>\n",
       "</div>"
      ],
      "text/plain": [
       "    STATE NERC.REGION  ANOMALY.LEVEL CLIMATE.CATEGORY               START  \\\n",
       "OBS                                                                         \n",
       "1      MN         MRO           -0.3           normal 2011-07-01 17:00:00   \n",
       "2      MN         MRO           -0.1           normal 2014-05-11 18:38:00   \n",
       "3      MN         MRO           -1.5             cold 2010-10-26 20:00:00   \n",
       "4      MN         MRO           -0.1           normal 2012-06-19 04:30:00   \n",
       "5      MN         MRO            1.2             warm 2015-07-18 02:00:00   \n",
       "\n",
       "    START.TIME                 END  END.TIME               CAUSE  \\\n",
       "OBS                                                                \n",
       "1     17:00:00 2011-07-03 20:00:00  20:00:00      severe weather   \n",
       "2     18:38:00 2014-05-11 18:39:00  18:39:00  intentional attack   \n",
       "3     20:00:00 2010-10-28 22:00:00  22:00:00      severe weather   \n",
       "4     04:30:00 2012-06-20 23:00:00  23:00:00      severe weather   \n",
       "5     02:00:00 2015-07-19 07:00:00  07:00:00      severe weather   \n",
       "\n",
       "           DETAIL  DURATION  NUM.AFFECTED  \n",
       "OBS                                        \n",
       "1             NaN    3060.0       70000.0  \n",
       "2       vandalism       1.0           NaN  \n",
       "3      heavy wind    3000.0       70000.0  \n",
       "4    thunderstorm    2550.0       68200.0  \n",
       "5             NaN    1740.0      250000.0  "
      ]
     },
     "execution_count": 8,
     "metadata": {},
     "output_type": "execute_result"
    }
   ],
   "source": [
    "#Shorten column names\n",
    "outages = outages.rename({'OUTAGE.START.DATE':'START',\n",
    "                          'OUTAGE.START.TIME': 'START.TIME',\n",
    "                          'OUTAGE.RESTORATION.DATE': 'END',\n",
    "                          'OUTAGE.RESTORATION.TIME':'END.TIME',\n",
    "                          'OUTAGE.DURATION': 'DURATION',\n",
    "                          'CUSTOMERS.AFFECTED': 'NUM.AFFECTED',\n",
    "                          'CAUSE.CATEGORY': 'CAUSE',\n",
    "                          'CAUSE.CATEGORY.DETAIL': 'DETAIL',\n",
    "                          'CLIMATE.REGION': 'REGION',}, axis=1)\n",
    "outages.head()"
   ]
  },
  {
   "cell_type": "markdown",
   "metadata": {},
   "source": [
    "Relationships of quantitative columns are displayed below:"
   ]
  },
  {
   "cell_type": "code",
   "execution_count": 9,
   "metadata": {},
   "outputs": [
    {
     "data": {
      "image/png": "[encoded data removed]",
      "text/plain": [
       "<Figure size 432x288 with 9 Axes>"
      ]
     },
     "metadata": {
      "needs_background": "light"
     },
     "output_type": "display_data"
    }
   ],
   "source": [
    "#Plot scatter matrix of all quantitative variables\n",
    "sm = pd.plotting.scatter_matrix(outages)\n",
    "plt.suptitle('Scatter Matrix of Quantitative Columns')\n",
    "#Rotate and space axis labels for legibility\n",
    "for ax in sm.flatten():\n",
    "    ax.xaxis.label.set_rotation(45)\n",
    "    ax.yaxis.label.set_rotation(0)\n",
    "    ax.yaxis.labelpad = 50"
   ]
  },
  {
   "cell_type": "markdown",
   "metadata": {},
   "source": [
    "Distribution of outage durations grouped by day and night are plotted below:"
   ]
  },
  {
   "cell_type": "code",
   "execution_count": 10,
   "metadata": {
    "scrolled": true
   },
   "outputs": [
    {
     "data": {
      "image/png": "[encoded data removed]",
      "text/plain": [
       "<Figure size 432x288 with 1 Axes>"
      ]
     },
     "metadata": {
      "needs_background": "light"
     },
     "output_type": "display_data"
    }
   ],
   "source": [
    "#Assign daytime labels based on regular working hours (8AM-6PM)\n",
    "outages['DAY.CYCLE'] = outages['START.TIME'].apply(lambda x: None if isinstance(x, float) else 'N' if x < datetime.time(hour=8) or x > datetime.time(hour=18) else 'D')\n",
    "sns.histplot(x='DURATION', hue='DAY.CYCLE', data=outages, stat='count', bins=12)\n",
    "plt.suptitle('Histogram of Outage Durations by Day and Night')\n",
    "plt.show()"
   ]
  },
  {
   "cell_type": "markdown",
   "metadata": {},
   "source": [
    "### Assessment of Missingness"
   ]
  },
  {
   "cell_type": "markdown",
   "metadata": {
    "ExecuteTime": {
     "end_time": "2019-10-31T23:36:28.662099Z",
     "start_time": "2019-10-31T23:36:28.660016Z"
    }
   },
   "source": [
    "Columns are examined for missingness. The columns that have the most missing values are details regarding the cause of an outage and the number of customers affected by the outage."
   ]
  },
  {
   "cell_type": "code",
   "execution_count": 11,
   "metadata": {},
   "outputs": [
    {
     "data": {
      "text/plain": [
       "STATE               0.000000\n",
       "NERC.REGION         0.000000\n",
       "ANOMALY.LEVEL       0.005867\n",
       "CLIMATE.CATEGORY    0.005867\n",
       "START               0.005867\n",
       "START.TIME          0.005867\n",
       "END                 0.037810\n",
       "END.TIME            0.037810\n",
       "CAUSE               0.000000\n",
       "DETAIL              0.307040\n",
       "DURATION            0.037810\n",
       "NUM.AFFECTED        0.288787\n",
       "DAY.CYCLE           0.005867\n",
       "dtype: float64"
      ]
     },
     "execution_count": 11,
     "metadata": {},
     "output_type": "execute_result"
    }
   ],
   "source": [
    "#Calculate proportion of missing data per column\n",
    "outages.isna().sum() / outages.shape[0]"
   ]
  },
  {
   "cell_type": "markdown",
   "metadata": {},
   "source": [
    "A variable that might be not missing at random (NMAR) is the start date/time of outages. Since outage starts are reported by the utility company, there are likely more missing data for outages that occur on federal holidays as a reduced staff decreases a company's ability to stay vigilant on power outage detection. This in turn, makes it more difficult to report the exact start of an outage. Ultimately, we should expect more missing start dates on federal holidays thus making start dates/times of outages not missing at random as they depend on the date and time it happened. The other columns with missing values likely depend on the other variables in the data.\n",
    "\n",
    "On a side note: Start times and start dates appear missing together in the data as is the case with end dates and times."
   ]
  },
  {
   "cell_type": "markdown",
   "metadata": {},
   "source": [
    "One might predict that the missingness of people affected is dependent on the NERC.REGION column, since any privacy policies, unreliable equipment a service company uses could impact delivery of the data.\n",
    "\n",
    "The following hypotheses are tested using a total variance distriubtion test with $\\alpha$ = 0.05:\n",
    "* $H_0$ = The missingness of NUM.AFFECTED is independent of NERC.REGION\n",
    "* $H_1$ = The missingness of NUM.AFFECTED is dependent on NERC.REGION\n",
    "\n",
    "Because the NERC.REGION column is qualitative, missingness must be examined using total variation distance."
   ]
  },
  {
   "cell_type": "code",
   "execution_count": 12,
   "metadata": {},
   "outputs": [
    {
     "data": {
      "image/png": "[encoded data removed]",
      "text/plain": [
       "<Figure size 576x432 with 1 Axes>"
      ]
     },
     "metadata": {
      "needs_background": "light"
     },
     "output_type": "display_data"
    }
   ],
   "source": [
    "#Select columns and create a table of conditional probabilities of missingness\n",
    "mcar1 = outages[['NERC.REGION', 'NUM.AFFECTED']]\n",
    "missing_dist = mcar1.assign(MISSING=mcar1['NUM.AFFECTED'].isna()).pivot_table(index='NERC.REGION',\n",
    "                                                                              columns='MISSING',\n",
    "                                                                              values='MISSING',\n",
    "                                                                              aggfunc='size').fillna(0)\n",
    "missing_dist = missing_dist / missing_dist.sum()\n",
    "missing_dist.plot(kind='barh', figsize=(8, 6))\n",
    "plt.suptitle('Number Affected by Outages across Organizations')\n",
    "plt.show()"
   ]
  },
  {
   "cell_type": "code",
   "execution_count": 13,
   "metadata": {},
   "outputs": [],
   "source": [
    "#Define a tvd function for re-use and calculate observed tvd\n",
    "def tvd(dist):\n",
    "    return (dist[False] - dist[True]).abs().sum() / dist.shape[0]\n",
    "\n",
    "obs = tvd(missing_dist)"
   ]
  },
  {
   "cell_type": "code",
   "execution_count": 14,
   "metadata": {},
   "outputs": [],
   "source": [
    "#Shuffle NERC.REGION labels and calculate TVD of missingness in NUM.AFFECTED column 10000 times\n",
    "shuffled = mcar1.copy()\n",
    "tvds = np.array([])\n",
    "reps = 10000\n",
    "for _ in range(reps):\n",
    "    shuffled['NERC.REGION'] = np.random.permutation(mcar1['NERC.REGION'])\n",
    "    pivot = shuffled.assign(MISSING=shuffled['NUM.AFFECTED'].isna()).pivot_table(index='NERC.REGION',\n",
    "                                                                                 columns='MISSING',\n",
    "                                                                                 values='MISSING',\n",
    "                                                                                 aggfunc='size').fillna(0)\n",
    "    pivot = pivot / pivot.sum()\n",
    "    tvds = np.append(tvds, tvd(pivot))"
   ]
  },
  {
   "cell_type": "code",
   "execution_count": 15,
   "metadata": {
    "scrolled": true
   },
   "outputs": [
    {
     "data": {
      "text/plain": [
       "0.0"
      ]
     },
     "execution_count": 15,
     "metadata": {},
     "output_type": "execute_result"
    }
   ],
   "source": [
    "#Calculate p-value\n",
    "(tvds >= obs).sum() / len(tvds)"
   ]
  },
  {
   "cell_type": "markdown",
   "metadata": {},
   "source": [
    "Since the p-value < 0.05, we reject the null hypothesis. It appears that the NUM.AFFECTED column is MAR dependent upon NERC.REGION, though this may be due to some other confounding factor."
   ]
  },
  {
   "cell_type": "markdown",
   "metadata": {},
   "source": [
    "On the other hand, climate category is unlikely to affect the missingness of the number of people affected. To confirm this suspicion another permutation test of total variation distance with a significance level of $\\alpha$ = 0.05 is used.\n",
    "* $H_0$ = NUM.AFFECTED is not dependent on the CLIMATE.CATEGORY column\n",
    "* $H_1$ = NUM.AFFECTED is dependent on the CLIMATE.CATEGORY column"
   ]
  },
  {
   "cell_type": "code",
   "execution_count": 16,
   "metadata": {
    "scrolled": false
   },
   "outputs": [
    {
     "data": {
      "image/png": "[encoded data removed]",
      "text/plain": [
       "<Figure size 432x288 with 1 Axes>"
      ]
     },
     "metadata": {
      "needs_background": "light"
     },
     "output_type": "display_data"
    }
   ],
   "source": [
    "#Reformat relevant columns to a table of conditional probabilities\n",
    "mcar2 = outages[['CLIMATE.CATEGORY', 'NUM.AFFECTED']]\n",
    "missing_dist = mcar2.assign(MISSING=mcar2['NUM.AFFECTED'].isna()).pivot_table(index='CLIMATE.CATEGORY', \n",
    "                                                                              columns='MISSING', \n",
    "                                                                              values='MISSING',\n",
    "                                                                              aggfunc='size')\n",
    "missing_dist = missing_dist / missing_dist.sum()\n",
    "missing_dist.plot(kind='barh')\n",
    "plt.suptitle('Missingness of NUM.AFFECTED across Climate Temp')\n",
    "plt.show()"
   ]
  },
  {
   "cell_type": "code",
   "execution_count": 17,
   "metadata": {},
   "outputs": [
    {
     "data": {
      "text/plain": [
       "CLIMATE.CATEGORY\n",
       "cold      0.326531\n",
       "normal    0.496599\n",
       "warm      0.176871\n",
       "Name: True, dtype: float64"
      ]
     },
     "execution_count": 17,
     "metadata": {},
     "output_type": "execute_result"
    }
   ],
   "source": [
    "missing_dist[True]"
   ]
  },
  {
   "cell_type": "code",
   "execution_count": 18,
   "metadata": {},
   "outputs": [
    {
     "name": "stdout",
     "output_type": "stream",
     "text": [
      "0.023537582314598654\n"
     ]
    }
   ],
   "source": [
    "#Calculate observed tvd\n",
    "obs = tvd(missing_dist)\n",
    "print(obs)\n",
    "#Simulate test statistic\n",
    "shuffled = mcar2.copy()\n",
    "tvds = np.array([])\n",
    "reps = 10000\n",
    "\n",
    "for _ in range(reps):\n",
    "    shuffled['CLIMATE.CATEGORY'] = np.random.permutation(shuffled['CLIMATE.CATEGORY'])\n",
    "    pivot = shuffled.assign(MISSING=shuffled['NUM.AFFECTED'].isna()).pivot_table(index='CLIMATE.CATEGORY', \n",
    "                                                                              columns='MISSING', \n",
    "                                                                              values='MISSING',\n",
    "                                                                              aggfunc='size')\n",
    "    pivot = pivot / pivot.sum()\n",
    "    tvds = np.append(tvds, tvd(pivot))"
   ]
  },
  {
   "cell_type": "code",
   "execution_count": 19,
   "metadata": {},
   "outputs": [
    {
     "data": {
      "text/plain": [
       "0.3522"
      ]
     },
     "execution_count": 19,
     "metadata": {},
     "output_type": "execute_result"
    }
   ],
   "source": [
    "#Calculate p-value\n",
    "(tvds >= obs).sum() / len(tvds)"
   ]
  },
  {
   "cell_type": "markdown",
   "metadata": {},
   "source": [
    "Since the p-value > 0.05, we fail to reject the null hypothesis. It appears that the number of people affected by a power outage is independent of the climate category the outage occurs in."
   ]
  },
  {
   "cell_type": "markdown",
   "metadata": {},
   "source": [
    "### Hypothesis Testing"
   ]
  },
  {
   "cell_type": "markdown",
   "metadata": {
    "ExecuteTime": {
     "end_time": "2019-10-31T23:36:28.666489Z",
     "start_time": "2019-10-31T23:36:28.664381Z"
    }
   },
   "source": [
    "Do power outages that occur outside of regular working hours (8AM-6PM) last longer?\n",
    "* $H_0$ = Power outage durations are similarly distributed regardless of when they occur.\n",
    "* $H_1$ = Power outages that start after-hours last longer."
   ]
  },
  {
   "cell_type": "code",
   "execution_count": 20,
   "metadata": {
    "scrolled": false
   },
   "outputs": [
    {
     "data": {
      "image/png": "[encoded data removed]",
      "text/plain": [
       "<Figure size 432x288 with 1 Axes>"
      ]
     },
     "metadata": {
      "needs_background": "light"
     },
     "output_type": "display_data"
    }
   ],
   "source": [
    "df = outages[['DURATION', 'DAY.CYCLE']]\n",
    "sns.histplot(x='DURATION', hue='DAY.CYCLE', bins=15, data=df)\n",
    "plt.suptitle('Power Outage Duration across Times of Day')\n",
    "plt.show()"
   ]
  },
  {
   "cell_type": "markdown",
   "metadata": {},
   "source": [
    "Since the two power distributions are similar in shape and spread, a permutation test of the difference in means will suffice. A significance level of $\\alpha$ = 0.05 is used."
   ]
  },
  {
   "cell_type": "code",
   "execution_count": 21,
   "metadata": {},
   "outputs": [
    {
     "data": {
      "text/plain": [
       "1039.0611812905427"
      ]
     },
     "execution_count": 21,
     "metadata": {},
     "output_type": "execute_result"
    }
   ],
   "source": [
    "#Define difference in means function and calculate observed statistic\n",
    "def diff_means(df):\n",
    "    means = df.groupby('DAY.CYCLE').mean()['DURATION']\n",
    "    return means['N'] - means['D']\n",
    "\n",
    "obs = diff_means(df)\n",
    "obs"
   ]
  },
  {
   "cell_type": "code",
   "execution_count": 22,
   "metadata": {},
   "outputs": [],
   "source": [
    "#Shuffle day cycle label and re-compute difference of means\n",
    "shuffled = df.copy()\n",
    "stats = np.array([])\n",
    "reps = 10000\n",
    "for _ in range(reps):\n",
    "    shuffled['DAY.CYCLE'] = np.random.permutation(shuffled['DAY.CYCLE'])\n",
    "    stat = diff_means(shuffled)\n",
    "    stats = np.append(stats, stat)"
   ]
  },
  {
   "cell_type": "code",
   "execution_count": 23,
   "metadata": {},
   "outputs": [
    {
     "data": {
      "text/plain": [
       "0.0005"
      ]
     },
     "execution_count": 23,
     "metadata": {},
     "output_type": "execute_result"
    }
   ],
   "source": [
    "#Calculate p-value\n",
    "(stats >= obs).sum() / len(stats)"
   ]
  },
  {
   "cell_type": "markdown",
   "metadata": {},
   "source": [
    "Since p < 0.05, we reject the null hypothesis. The durations of power outages that occur at night are longer than those that occur during the day."
   ]
  },
  {
   "cell_type": "code",
   "execution_count": null,
   "metadata": {},
   "outputs": [],
   "source": []
  }
 ],
 "metadata": {
  "kernelspec": {
   "display_name": "Python 3 (ipykernel)",
   "language": "python",
   "name": "python3"
  },
  "language_info": {
   "codemirror_mode": {
    "name": "ipython",
    "version": 3
   },
   "file_extension": ".py",
   "mimetype": "text/x-python",
   "name": "python",
   "nbconvert_exporter": "python",
   "pygments_lexer": "ipython3",
   "version": "3.9.12"
  }
 },
 "nbformat": 4,
 "nbformat_minor": 2
}
